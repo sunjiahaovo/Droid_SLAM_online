{
 "cells": [
  {
   "cell_type": "code",
   "execution_count": 8,
   "metadata": {},
   "outputs": [
    {
     "ename": "ValueError",
     "evalue": "need at least one array to concatenate",
     "output_type": "error",
     "traceback": [
      "\u001b[0;31m---------------------------------------------------------------------------\u001b[0m",
      "\u001b[0;31mValueError\u001b[0m                                Traceback (most recent call last)",
      "Cell \u001b[0;32mIn[8], line 14\u001b[0m\n\u001b[1;32m     12\u001b[0m     poses\u001b[39m.\u001b[39mappend(pose)\n\u001b[1;32m     13\u001b[0m     \u001b[39m# print(pose.shape)\u001b[39;00m\n\u001b[0;32m---> 14\u001b[0m poses \u001b[39m=\u001b[39m np\u001b[39m.\u001b[39;49mconcatenate(poses, axis\u001b[39m=\u001b[39;49m\u001b[39m0\u001b[39;49m) \n\u001b[1;32m     15\u001b[0m \u001b[39m# print(poses)\u001b[39;00m\n\u001b[1;32m     16\u001b[0m \u001b[39mprint\u001b[39m(poses\u001b[39m.\u001b[39mshape)\n",
      "File \u001b[0;32m<__array_function__ internals>:180\u001b[0m, in \u001b[0;36mconcatenate\u001b[0;34m(*args, **kwargs)\u001b[0m\n",
      "\u001b[0;31mValueError\u001b[0m: need at least one array to concatenate"
     ]
    }
   ],
   "source": [
    "import numpy as np\n",
    "import os\n",
    "import glob\n",
    "\n",
    "data_path = 'reconstructions/bear_room_realsense_offline_ellipse_with_depth_2'\n",
    "data_list = glob.glob(os.path.join(data_path, 'pic*'))\n",
    "poses = []\n",
    "for data in sorted(data_list):\n",
    "    # print(os.path.join(data, 'poses.npy'))\n",
    "    pose = np.load(os.path.join(data, 'poses.npy'))\n",
    "    # print(pose.reshape(1, 7))\n",
    "    poses.append(pose)\n",
    "    # print(pose.shape)\n",
    "poses = np.concatenate(poses, axis=0) \n",
    "# print(poses)\n",
    "print(poses.shape)\n",
    "np.save(os.path.join(data_path, \"poses.npy\"), poses)\n",
    "\n",
    "images = []\n",
    "for data in sorted(data_list):\n",
    "#     # print(os.path.join(data, 'images.npy'))\n",
    "    img = np.load(os.path.join(data, 'images.npy'))\n",
    "    # print(img.shape)\n",
    "#     # print(np.max(img))\n",
    "#     img = img.reshape(1, 3, 384, 512)\n",
    "    images.append(img)\n",
    "images = np.concatenate(images, axis=0)\n",
    "print(images.shape)\n",
    "# test = np.load(\"/remote-home/ums_sunjiahao/droid-slam/reconstructions/bear_room_ipad_offline/intrinsics.npy\")\n",
    "# print(test.shape)\n",
    "np.save(os.path.join(data_path, \"images.npy\"), images)\n",
    "\n",
    "intrinsics = []\n",
    "for data in sorted(data_list):\n",
    "    # print(os.path.join(data, 'intrinsics.npy'))\n",
    "    intrinsic = np.load(os.path.join(data, 'intrinsics.npy'))\n",
    "    # print(intrinsic.shape)\n",
    "    intrinsics.append(intrinsic)\n",
    "intrinsics = np.concatenate(intrinsics, axis=0)\n",
    "# print(intrinsics.shape)\n",
    "np.save(os.path.join(data_path, \"intrinsics.npy\"), intrinsics)"
   ]
  },
  {
   "cell_type": "code",
   "execution_count": 4,
   "metadata": {},
   "outputs": [],
   "source": [
    "### get realsense image from ngp results\n",
    "import glob\n",
    "import os\n",
    "import cv2\n",
    "\n",
    "data_path = \"/remote-home/ums_sunjiahao/droid-slam/data/droid_bear_room_realsense_online_ellipse_ngp_minNear027_with_opacity_loss/validation\"\n",
    "save_path = \"/remote-home/ums_sunjiahao/droid-slam/data/bear_room_realsense_ellipse_noWB\"\n",
    "if not os.path.exists(save_path):\n",
    "    os.mkdir(save_path)\n",
    "realsense_data = glob.glob(os.path.join(data_path, \"ngp_ep0050_*_gt.png\"))\n",
    "# print(realsense_data)\n",
    "for data in sorted(realsense_data):\n",
    "    image = cv2.imread(data)\n",
    "    # save image\n",
    "    image_id = int(data.split(\"_\")[-2])\n",
    "    # print(image_id)\n",
    "    cv2.imwrite(os.path.join(save_path, f\"frame{image_id:05d}.png\"), image)"
   ]
  }
 ],
 "metadata": {
  "kernelspec": {
   "display_name": "ngp",
   "language": "python",
   "name": "python3"
  },
  "language_info": {
   "codemirror_mode": {
    "name": "ipython",
    "version": 3
   },
   "file_extension": ".py",
   "mimetype": "text/x-python",
   "name": "python",
   "nbconvert_exporter": "python",
   "pygments_lexer": "ipython3",
   "version": "3.9.16"
  },
  "orig_nbformat": 4
 },
 "nbformat": 4,
 "nbformat_minor": 2
}
